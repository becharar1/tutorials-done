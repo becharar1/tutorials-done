{
  "nbformat": 4,
  "nbformat_minor": 0,
  "metadata": {
    "colab": {
      "provenance": [],
      "authorship_tag": "ABX9TyOjdh/ZpfvI8b69H1B0O4cn",
      "include_colab_link": true
    },
    "kernelspec": {
      "name": "python3",
      "display_name": "Python 3"
    },
    "language_info": {
      "name": "python"
    }
  },
  "cells": [
    {
      "cell_type": "markdown",
      "metadata": {
        "id": "view-in-github",
        "colab_type": "text"
      },
      "source": [
        "<a href=\"https://colab.research.google.com/github/becharar1/tutorials-done/blob/main/get_tomorrow.ipynb\" target=\"_parent\"><img src=\"https://colab.research.google.com/assets/colab-badge.svg\" alt=\"Open In Colab\"/></a>"
      ]
    },
    {
      "cell_type": "code",
      "execution_count": 208,
      "metadata": {
        "id": "NqBaJqpdYgd7"
      },
      "outputs": [],
      "source": []
    },
    {
      "cell_type": "code",
      "source": [
        "import pandas as pd\n",
        "df=pd.read_csv(\"weather.csv\", delimiter= ',')\n",
        "from pandas.io.formats.style_render import DataFrame\n",
        "now = str(input(\"Enter the date: \"))\n",
        "def get_tomorrow(now,df=df):\n",
        "  from datetime import datetime\n",
        "  from datetime import timedelta\n",
        "  time_now = datetime.strptime(now, '%Y-%m-%d')\n",
        "  time_tomorrow=time_now+timedelta(days=1)\n",
        "  time_tomorrow=time_tomorrow\n",
        "  #specifying thresholds\n",
        "  warm_threshold=10\n",
        "  sunny_threshold=100\n",
        "  windy_threshold=5\n",
        "  strtomorrow=str(time_tomorrow.date())\n",
        "  print (strtomorrow)\n",
        "  dfdate = df.loc[df['event_start'].str.contains(strtomorrow, case=False)]\n",
        "  if len(dfdate)>0:\n",
        "    warm=iswarm(dfdate,warm_threshold)\n",
        "    awarm=\"\"\n",
        "    if not warm: \n",
        "      awarm=\"not\"\n",
        "    asunny=\",\"\n",
        "    sunny=issunny(dfdate,sunny_threshold)\n",
        "    if not sunny:\n",
        "      asunny=\"not\"\n",
        "    awindy=\"and\"\n",
        "    windy=iswindy(dfdate, windy_threshold)\n",
        "    if not windy:\n",
        "      awindy=\"not\"\n",
        "    print(\"tomorrow's weather is \" + awarm + \" warm \" + asunny +\" sunny \" +awindy + \" windy\") \n",
        "  else:\n",
        "    print (\"No data is available for the chosen date\")\n",
        "\n",
        "def iswarm(dfdate:DataFrame,warm_threshold):\n",
        "  #function get info about temperature\n",
        "  dftemp=dfdate.loc[dfdate['sensor'] == 'temperature']\n",
        "  #check if warm: not warm if the threshold is breached once\n",
        "  i=0\n",
        "  warm=False\n",
        "  while i<len(dftemp) and warm==False:\n",
        "    if dftemp.iloc[i,2] >warm_threshold:\n",
        "      warm=True\n",
        "    else:\n",
        "      i=i+1\n",
        "  return warm\n",
        "def issunny(dfdate:DataFrame,sunny_threshold):\n",
        "  #check if windy: windy if the threshold is breached once\n",
        "  dfsunny=dfdate.loc[dfdate['sensor'] == 'irradiance']\n",
        "  #check if sunny: not sunnt if the threshold is breached once\n",
        "  i=0\n",
        "  sunny=False\n",
        "  while i<len(dfsunny) and sunny==False:\n",
        "    if dfsunny.iloc[i,2] >sunny_threshold:\n",
        "      sunny=True\n",
        "    else:\n",
        "      i=i+1\n",
        "  return sunny\n",
        "\n",
        "def iswindy(dfdate:DataFrame,windy_threshold):\n",
        "    #check if windy: windy if the threshold is breached once\n",
        "  dfwind=dfdate.loc[dfdate['sensor'] == 'wind speed']\n",
        "  i=0\n",
        "  windy=False\n",
        "  while i<len(dfwind) and windy==False:\n",
        "    if dfwind.iloc[i,2] >windy_threshold:\n",
        "      windy=True\n",
        "    else:\n",
        "      i=i+1\n",
        "  return windy\n",
        "get_tomorrow(now)"
      ],
      "metadata": {
        "id": "HwmUSGWWCWMU",
        "outputId": "df5b0ed1-b735-42b1-f0a6-6e813b770f9f",
        "colab": {
          "base_uri": "https://localhost:8080/"
        }
      },
      "execution_count": 216,
      "outputs": [
        {
          "output_type": "stream",
          "name": "stdout",
          "text": [
            "Enter the date: 2021-11-01\n",
            "2021-11-02\n",
            "tomorrow's weather is  warm , sunny not windy\n"
          ]
        }
      ]
    },
    {
      "cell_type": "code",
      "source": [
        "!pip install fastapi\n",
        "from fastapi import FastAPI\n",
        "app = FastAPI()\n",
        "\n",
        "@app.get(\"/my-first-api\")\n",
        "def hello():\n",
        "  return {\"Hello world!\"}"
      ],
      "metadata": {
        "colab": {
          "base_uri": "https://localhost:8080/"
        },
        "id": "vDIxIhv87fs2",
        "outputId": "a2ad4306-f1ab-48d1-c42f-c2832a7e1b71"
      },
      "execution_count": 219,
      "outputs": [
        {
          "output_type": "stream",
          "name": "stdout",
          "text": [
            "Looking in indexes: https://pypi.org/simple, https://us-python.pkg.dev/colab-wheels/public/simple/\n",
            "Collecting fastapi\n",
            "  Downloading fastapi-0.88.0-py3-none-any.whl (55 kB)\n",
            "\u001b[2K     \u001b[90m━━━━━━━━━━━━━━━━━━━━━━━━━━━━━━━━━━━━━━━━\u001b[0m \u001b[32m55.5/55.5 KB\u001b[0m \u001b[31m3.6 MB/s\u001b[0m eta \u001b[36m0:00:00\u001b[0m\n",
            "\u001b[?25hRequirement already satisfied: pydantic!=1.7,!=1.7.1,!=1.7.2,!=1.7.3,!=1.8,!=1.8.1,<2.0.0,>=1.6.2 in /usr/local/lib/python3.8/dist-packages (from fastapi) (1.10.2)\n",
            "Collecting starlette==0.22.0\n",
            "  Downloading starlette-0.22.0-py3-none-any.whl (64 kB)\n",
            "\u001b[2K     \u001b[90m━━━━━━━━━━━━━━━━━━━━━━━━━━━━━━━━━━━━━━━━\u001b[0m \u001b[32m64.3/64.3 KB\u001b[0m \u001b[31m6.8 MB/s\u001b[0m eta \u001b[36m0:00:00\u001b[0m\n",
            "\u001b[?25hRequirement already satisfied: typing-extensions>=3.10.0 in /usr/local/lib/python3.8/dist-packages (from starlette==0.22.0->fastapi) (4.4.0)\n",
            "Collecting anyio<5,>=3.4.0\n",
            "  Downloading anyio-3.6.2-py3-none-any.whl (80 kB)\n",
            "\u001b[2K     \u001b[90m━━━━━━━━━━━━━━━━━━━━━━━━━━━━━━━━━━━━━━━━\u001b[0m \u001b[32m80.6/80.6 KB\u001b[0m \u001b[31m8.4 MB/s\u001b[0m eta \u001b[36m0:00:00\u001b[0m\n",
            "\u001b[?25hRequirement already satisfied: idna>=2.8 in /usr/local/lib/python3.8/dist-packages (from anyio<5,>=3.4.0->starlette==0.22.0->fastapi) (2.10)\n",
            "Collecting sniffio>=1.1\n",
            "  Downloading sniffio-1.3.0-py3-none-any.whl (10 kB)\n",
            "Installing collected packages: sniffio, anyio, starlette, fastapi\n",
            "Successfully installed anyio-3.6.2 fastapi-0.88.0 sniffio-1.3.0 starlette-0.22.0\n"
          ]
        }
      ]
    }
  ]
}